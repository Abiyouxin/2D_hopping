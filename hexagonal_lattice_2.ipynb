{
 "cells": [
  {
   "cell_type": "code",
   "execution_count": 2,
   "metadata": {},
   "outputs": [],
   "source": [
    "import numpy as np\n",
    "import random\n",
    "import matplotlib.pyplot as plt"
   ]
  },
  {
   "cell_type": "code",
   "execution_count": 93,
   "metadata": {},
   "outputs": [
    {
     "data": {
      "image/png": "[encoded data removed]",
      "text/plain": [
       "<Figure size 432x288 with 1 Axes>"
      ]
     },
     "metadata": {
      "needs_background": "light"
     },
     "output_type": "display_data"
    }
   ],
   "source": [
    "# Sam's way to make hex lattice:\n",
    "\n",
    "# N must be even and this will make a lattice with N points in x and N points in y directions\n",
    "\n",
    "N = 10\n",
    "d = 0.28\n",
    "\n",
    "# set up square mesh\n",
    "\n",
    "nx, ny = (N, N)\n",
    "x = np.linspace(0, N-1, nx)*d\n",
    "y = np.linspace(0, N-1, ny)*d\n",
    "xv, yv = np.meshgrid(x, y)\n",
    "xv_array = np.asarray(xv).reshape(-1)\n",
    "yv_array = np.asarray(yv).reshape(-1)\n",
    "\n",
    "# scaling for hexagonal points (in y)\n",
    "y_scale = np.sqrt(3)/2*d\n",
    "yv_hex = yv_array*y_scale\n",
    "\n",
    "# shift for hexagonal points (in x) - for every second row, bump a bit to the right\n",
    "no_shift = np.zeros((N))\n",
    "yes_shift = np.ones((N))*d/2\n",
    "\n",
    "# vector that contains shifts for x coordinate every second row in lattice\n",
    "x_shift = np.concatenate((no_shift, yes_shift), axis=0)\n",
    "\n",
    "xv_hex = xv_array + np.tile(x_shift, N//2)\n",
    "\n",
    "coordinates_hex = np.vstack((xv_hex, yv_hex))\n",
    "\n",
    "plt.scatter(coordinates_hex[0,:],coordinates_hex[1,:], alpha = 0.5)\n",
    "\n",
    "for i in range(N**2):\n",
    "    plt.text(coordinates_hex[0,i],coordinates_hex[1,i], str(i+1))\n",
    "\n",
    "plt.show()"
   ]
  },
  {
   "cell_type": "code",
   "execution_count": 94,
   "metadata": {},
   "outputs": [],
   "source": [
    "# assign random energy states to sites\n",
    "E = np.random.uniform(-1, 1, (N**2))"
   ]
  },
  {
   "cell_type": "code",
   "execution_count": 95,
   "metadata": {},
   "outputs": [],
   "source": [
    "# Temperature\n",
    "T = 298\n",
    "# Boltzmann constant\n",
    "kB = 8.617332e-5\n",
    "kT = kB * T"
   ]
  },
  {
   "cell_type": "code",
   "execution_count": 96,
   "metadata": {},
   "outputs": [
    {
     "name": "stdout",
     "output_type": "stream",
     "text": [
      "[55. 66. 67. 57. 47. 46.]\n"
     ]
    }
   ],
   "source": [
    "def neighbour(a):\n",
    "    x_even = np.linspace(0.5, N-0.5, nx)*d\n",
    "    x_even = np.around(x_even, 2)\n",
    "    x_odd = np.around(x, 2)\n",
    "    sites = np.array([])\n",
    "    \n",
    "    # corners\n",
    "    def corners(a):\n",
    "        c_sites = np.array([])\n",
    "        if coordinates_hex[0,a] == 0.0 and coordinates_hex[1,a] == 0.0:\n",
    "            c_sites = np.append(c_sites, [a+N-1, a+2*N-1, a+N, a+1, N**2-(N-a), N**2-1])\n",
    "        if coordinates_hex[0,a] == d*(N-1) and coordinates_hex[1,a] == 0.0:\n",
    "            c_sites = np.append(c_sites, [a-1, a+N-1, a+N, a-N+1, N**2-1,  (N**2-1)-(N-a)])\n",
    "        if coordinates_hex[0,a] == d/2 and coordinates_hex[1,a] == y_scale*d*(N-1):\n",
    "            c_sites = np.append(c_sites, [a+N-1, N-(N**2-a), N-(N**2-a)+1, a+1, a-N+1,  a-N])\n",
    "        if coordinates_hex[0,a] == d/2 + (N-1)*d and coordinates_hex[1,a] == y_scale*d*(N-1):\n",
    "            c_sites = np.append(c_sites, [a-1, N-(N**2-a), 1, a-N+1, a-2*N+1, a-N])\n",
    "        return c_sites\n",
    "    \n",
    "    # first last column\n",
    "    def flcol(a):\n",
    "        value = round(xv_hex[a], 2)\n",
    "        s_sites = np.array([])\n",
    "        if a%N == 0:\n",
    "            if value in x_odd: # odd\n",
    "                s_sites = np.append(s_sites, [a+N-1, a+2*N-1, a+N, a+1, a-N, a-1])\n",
    "            elif value in x_even: # even\n",
    "                s_sites = np.append(s_sites, [a+N-1, a+N, a+N+1, a+1, a-N+1, a-N])\n",
    "        if (a+1)%N == 0:\n",
    "            if value in x:\n",
    "                s_sites = np.append(s_sites, [a-1, a+N-1, a+N, a-N+1, a-N, a-N-1])\n",
    "            elif value in x_even:\n",
    "                s_sites = np.append(s_sites, [a-1, a+N, a+1, a-N+1, a-2*N+1, a-N])\n",
    "        return s_sites\n",
    "    \n",
    "    # first last row \n",
    "    def flrow(a):\n",
    "        r_sites = np.array([])\n",
    "        if a in np.arange(0,N):\n",
    "            r_sites = np.append(r_sites, [a-1, a+N-1, a+N, a+1, N**2-(N-a), N**2-(N-a)-1])\n",
    "        if a in np.arange(N**2-N, N**2):\n",
    "            r_sites = np.append(r_sites, [a-1, N-(N**2-a), N-(N**2-a)+1, a+1, a-N+1, a-N])\n",
    "        return r_sites\n",
    "    \n",
    "    # middle\n",
    "    def mid(a):\n",
    "        value = round(xv_hex[a], 2)\n",
    "        m_sites = np.array([])\n",
    "        if value in x_odd:\n",
    "            m_sites = np.append(m_sites, [a-1, a+N-1, a+N, a+1, a-N, a-N-1])\n",
    "        # even rows\n",
    "        if value in x_even:\n",
    "            m_sites = np.append(m_sites, [a-1, a+N, a+N+1, a+1, a-N+1, a-N])\n",
    "        return m_sites\n",
    "        \n",
    "    if len(corners(a))!= 0:\n",
    "        sites = np.append(sites, corners(a))\n",
    "        return sites\n",
    "    elif len(flcol(a))!= 0:\n",
    "        sites = np.append(sites, flcol(a))\n",
    "        return sites\n",
    "    elif len(flrow(a))!= 0:\n",
    "        sites = np.append(sites, flrow(a))\n",
    "        return sites\n",
    "    else:\n",
    "        sites = np.append(sites, mid(a))\n",
    "        return sites\n",
    "    \n",
    " \n",
    "print(neighbour(56))\n"
   ]
  },
  {
   "cell_type": "code",
   "execution_count": 97,
   "metadata": {},
   "outputs": [
    {
     "name": "stdout",
     "output_type": "stream",
     "text": [
      "[75, 76, 77, 78, 69, 79]\n"
     ]
    }
   ],
   "source": [
    "# generate random initial point\n",
    "# in lattice, a = a+1\n",
    "a = np.random.randint(0,N**2)\n",
    "\n",
    "\n",
    "# track positions\n",
    "pos = [a]\n",
    "\n",
    "angle = 60/180*np.pi\n",
    "E_ext = np.array([1, np.cos(angle), -np.cos(angle), -1, -np.cos(angle), np.cos(angle)])\n",
    "\n",
    "for n in range(5):\n",
    "    dE = np.array([])\n",
    "    for i in neighbour(a):\n",
    "        i = i.astype(int)\n",
    "        # energy difference \n",
    "        dE = np.append(dE, E[i]-E[a])\n",
    "    \n",
    "        \n",
    "    # total energy (E_ext = 0 without applied field)\n",
    "    E_tot = dE + E_ext\n",
    "    # rate of hopping, v = 1*exp(-dE/kT)\n",
    "    v =  np.exp(-E_tot/kT)\n",
    "\n",
    "    # generate random number\n",
    "    Randnum = random.uniform(0,1)\n",
    "    # set position of pointer\n",
    "    rk = Randnum * np.sum(v)\n",
    "    # cumulative sum of energy\n",
    "    k = np.cumsum(v)\n",
    "    \n",
    "    # going through k1, k1+k2...., ktotal\n",
    "    for i in np.nditer(k):\n",
    "        # if value smaller than pointer choose path\n",
    "        if i > rk:\n",
    "            next_step = list(k).index(i)\n",
    "            break\n",
    "    # update a for new lattice site\n",
    "    a = (neighbour(a)[next_step]).astype(int)\n",
    "    pos.append(a)\n",
    "print(pos)"
   ]
  },
  {
   "cell_type": "code",
   "execution_count": 98,
   "metadata": {},
   "outputs": [
    {
     "data": {
      "image/png": "[encoded data removed]",
      "text/plain": [
       "<Figure size 432x288 with 1 Axes>"
      ]
     },
     "metadata": {
      "needs_background": "light"
     },
     "output_type": "display_data"
    }
   ],
   "source": [
    "plt.scatter(coordinates_hex[0,:],coordinates_hex[1,:], alpha = 0.5)\n",
    "\n",
    "for i in range(N**2):\n",
    "    plt.text(coordinates_hex[0,i],coordinates_hex[1,i], str(i+1))\n",
    "\n",
    "plt.quiver(xv_hex[pos[:-1]], yv_hex[pos[:-1]], xv_hex[pos[1:]]-xv_hex[pos[:-1]], yv_hex[pos[1:]]-yv_hex[pos[:-1]], scale_units='xy', angles='xy',scale=1)\n",
    "\n",
    "plt.show()"
   ]
  },
  {
   "cell_type": "code",
   "execution_count": null,
   "metadata": {},
   "outputs": [],
   "source": []
  }
 ],
 "metadata": {
  "kernelspec": {
   "display_name": "Python 3",
   "language": "python",
   "name": "python3"
  },
  "language_info": {
   "codemirror_mode": {
    "name": "ipython",
    "version": 3
   },
   "file_extension": ".py",
   "mimetype": "text/x-python",
   "name": "python",
   "nbconvert_exporter": "python",
   "pygments_lexer": "ipython3",
   "version": "3.7.0"
  }
 },
 "nbformat": 4,
 "nbformat_minor": 2
}

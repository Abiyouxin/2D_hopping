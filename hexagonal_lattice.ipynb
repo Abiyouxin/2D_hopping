{
 "cells": [
  {
   "cell_type": "code",
   "execution_count": 1,
   "metadata": {},
   "outputs": [],
   "source": [
    "import numpy as np\n",
    "import random\n",
    "import matplotlib.pyplot as plt"
   ]
  },
  {
   "cell_type": "code",
   "execution_count": 2,
   "metadata": {},
   "outputs": [
    {
     "name": "stdout",
     "output_type": "stream",
     "text": [
      "0.24248711305964282\n"
     ]
    }
   ],
   "source": [
    "# lattice spacing given by d\n",
    "d = 0.28\n",
    "# distance between two lattice\n",
    "w = (np.sqrt(3)*d)/2\n",
    "print(w)\n",
    "# distance between two unit cells vertically \n",
    "h = (3/2)*d"
   ]
  },
  {
   "cell_type": "code",
   "execution_count": 3,
   "metadata": {},
   "outputs": [
    {
     "name": "stdout",
     "output_type": "stream",
     "text": [
      "1.12 0.9699484522385713\n"
     ]
    }
   ],
   "source": [
    "# number of lattice sites in both directions\n",
    "N = 4\n",
    "a = N * d\n",
    "b = N * w\n",
    "print(a,b)"
   ]
  },
  {
   "cell_type": "code",
   "execution_count": 4,
   "metadata": {},
   "outputs": [],
   "source": [
    "# build hexagonal lattice\n",
    "xcoords = np.array([])\n",
    "ycoords = np.array([])\n",
    "\n",
    "y_shift = 0\n",
    "while y_shift < b:\n",
    "    x = np.array([0])\n",
    "    x_shift = 0 + d\n",
    "    count = 0\n",
    "    \n",
    "    while x_shift < a:\n",
    "        x = np.append(x, x_shift)\n",
    "        x_shift = x_shift + d\n",
    "        count += 1\n",
    "    \n",
    "    y = np.array([y_shift])\n",
    "       \n",
    "    for i in range(0, count):\n",
    "        y = np.append(y, y_shift)\n",
    "    \n",
    "    y_shift = y_shift + 2*w\n",
    "    xcoords = np.append(xcoords, x)\n",
    "    ycoords = np.append(ycoords, y)\n",
    "\n",
    "y_shift = 0 + w\n",
    "while y_shift < b:\n",
    "    x = np.array([0 + d/2])\n",
    "    x_shift = 0 + d/2 + d\n",
    "    count = 0\n",
    "    \n",
    "    while x_shift < a:\n",
    "        x = np.append(x, x_shift)\n",
    "        x_shift = x_shift + d\n",
    "        count += 1\n",
    "    \n",
    "    y = np.array([y_shift])\n",
    "       \n",
    "    for i in range(0, count):\n",
    "        y = np.append(y, y_shift)\n",
    "    \n",
    "    y_shift = y_shift + np.sqrt(3)*d\n",
    "    xcoords = np.append(xcoords, x)\n",
    "    ycoords = np.append(ycoords, y)\n",
    "      "
   ]
  },
  {
   "cell_type": "code",
   "execution_count": 5,
   "metadata": {},
   "outputs": [
    {
     "name": "stdout",
     "output_type": "stream",
     "text": [
      "[0.4232657  0.06477478 0.46060649 0.05899562 0.03734595 0.16223239\n",
      " 0.35915641 0.16113968 0.37158293 0.16992043 0.35431116 0.28469333\n",
      " 0.40339672 0.06827783 0.03548609 0.20966482]\n"
     ]
    }
   ],
   "source": [
    "# assign random energie states to grid\n",
    "state = np.random.uniform(0, 0.5, (N*N))\n",
    "print(state)"
   ]
  },
  {
   "cell_type": "code",
   "execution_count": 6,
   "metadata": {
    "scrolled": true
   },
   "outputs": [
    {
     "name": "stdout",
     "output_type": "stream",
     "text": [
      "[[0.         0.        ]\n",
      " [0.28       0.        ]\n",
      " [0.56       0.        ]\n",
      " [0.84       0.        ]\n",
      " [0.         0.48497423]\n",
      " [0.28       0.48497423]\n",
      " [0.56       0.48497423]\n",
      " [0.84       0.48497423]\n",
      " [0.14       0.24248711]\n",
      " [0.42       0.24248711]\n",
      " [0.7        0.24248711]\n",
      " [0.98       0.24248711]\n",
      " [0.14       0.72746134]\n",
      " [0.42       0.72746134]\n",
      " [0.7        0.72746134]\n",
      " [0.98       0.72746134]]\n"
     ]
    }
   ],
   "source": [
    "grid = np.column_stack((xcoords, ycoords))\n",
    "# determine a random point on the grid\n",
    "print(grid)"
   ]
  },
  {
   "cell_type": "code",
   "execution_count": 7,
   "metadata": {},
   "outputs": [
    {
     "name": "stdout",
     "output_type": "stream",
     "text": [
      "[0.7        0.24248711]\n"
     ]
    }
   ],
   "source": [
    "number_of_sites = N*N\n",
    "a = np.random.randint(0, number_of_sites -1)\n",
    "point = grid[a]\n",
    "print(point)"
   ]
  },
  {
   "cell_type": "code",
   "execution_count": 12,
   "metadata": {},
   "outputs": [
    {
     "data": {
      "image/png": "[encoded data removed]",
      "text/plain": [
       "<Figure size 432x288 with 1 Axes>"
      ]
     },
     "metadata": {
      "needs_background": "light"
     },
     "output_type": "display_data"
    }
   ],
   "source": [
    "# plot hexagonal latticie showing point\n",
    "def pltcolor(x, y):\n",
    "    cols = []\n",
    "    for i in range(number_of_sites):\n",
    "        if x[i] == point[0] and y[i] == point[1] :\n",
    "            cols.append('red')\n",
    "        else:\n",
    "            cols.append('blue')\n",
    "    return cols\n",
    "\n",
    "cols  = pltcolor(xcoords, ycoords)\n",
    "plt.scatter(xcoords, ycoords, c=cols)\n",
    "\n",
    "plt.scatter(grid[:,0],grid[:,1], alpha = 0.5)\n",
    "for i in range(grid.shape[0]):\n",
    "    plt.text(grid[i,0], grid[i,1], str(i))\n",
    "\n",
    "plt.show()"
   ]
  },
  {
   "cell_type": "code",
   "execution_count": 13,
   "metadata": {},
   "outputs": [
    {
     "name": "stdout",
     "output_type": "stream",
     "text": [
      "3\n",
      "11\n",
      "3\n",
      "11\n",
      "7\n",
      "14\n",
      "13\n",
      "14\n",
      "13\n",
      "14\n"
     ]
    }
   ],
   "source": [
    "# Temperature\n",
    "T = 300\n",
    "# Boltzmann constant\n",
    "kB = 8.617332e-5\n",
    "kT = kB * T\n",
    "\n",
    "# calculate distance between lattice points and original points to find neighbbouring atoms\n",
    "for n in range(10):\n",
    "    neighbour_sites = np.array([])\n",
    "    E = np.array([])\n",
    "    for i in [x for x in range(number_of_sites) if x != a]:\n",
    "        x_dis = grid[i][0] - point[0]\n",
    "        y_dis = grid[i][1] - point[1]\n",
    "        tot_dis = np.sqrt((x_dis**2) + (y_dis**2))\n",
    "        if tot_dis <= d:\n",
    "            neighbour_sites = np.append(neighbour_sites, i)\n",
    "            E = np.append(E, state[i])\n",
    "            dE = E - state[a]\n",
    "            # rate of hopping, v = 1*exp(-dE/kT)\n",
    "            v =  np.exp(-dE/kT)\n",
    "            # generate random number\n",
    "            Randnum = random.uniform(0,1)\n",
    "            # set position of pointer\n",
    "            rk = Randnum * np.sum(v)\n",
    "            # cumulative sum of energy\n",
    "            k = np.cumsum(v) \n",
    "\n",
    "    # going through k1, k1+k2...., ktotal\n",
    "    check = []\n",
    "    for i in np.nditer(k):\n",
    "    # if value smaller than pointer, append to check\n",
    "        if i < rk:\n",
    "            check.append(i)\n",
    "\n",
    "    if len(check) == 0:\n",
    "        a = int(neighbour_sites[0])\n",
    "    elif len(check) == 1:\n",
    "        a = int(neighbour_sites[1])\n",
    "    elif len(check) == 2:\n",
    "        a = int(neighbour_sites[2])\n",
    "    elif len(check) == 3:\n",
    "        a = int(neighbour_sites[3])\n",
    "    elif len(check) == 4:\n",
    "        a = int(neighbour_sites[4])\n",
    "    else:\n",
    "        a = int(neighbour_sites[5])\n",
    "    point = grid[a]\n",
    "\n",
    "    print(a)"
   ]
  },
  {
   "cell_type": "code",
   "execution_count": null,
   "metadata": {},
   "outputs": [],
   "source": []
  }
 ],
 "metadata": {
  "kernelspec": {
   "display_name": "Python 3",
   "language": "python",
   "name": "python3"
  },
  "language_info": {
   "codemirror_mode": {
    "name": "ipython",
    "version": 3
   },
   "file_extension": ".py",
   "mimetype": "text/x-python",
   "name": "python",
   "nbconvert_exporter": "python",
   "pygments_lexer": "ipython3",
   "version": "3.7.0"
  }
 },
 "nbformat": 4,
 "nbformat_minor": 2
}

{
 "cells": [
  {
   "cell_type": "code",
   "execution_count": 1,
   "metadata": {},
   "outputs": [],
   "source": [
    "import numpy as np\n",
    "import random\n",
    "import matplotlib.pyplot as plt\n",
    "import pandas as pd"
   ]
  },
  {
   "cell_type": "code",
   "execution_count": 2,
   "metadata": {},
   "outputs": [
    {
     "data": {
      "image/png": "[encoded data removed]",
      "text/plain": [
       "<Figure size 432x288 with 1 Axes>"
      ]
     },
     "metadata": {
      "needs_background": "light"
     },
     "output_type": "display_data"
    }
   ],
   "source": [
    "# N must be even and this will make a lattice with N points in x and N points in y directions\n",
    "\n",
    "N = 10\n",
    "d = 0.28\n",
    "\n",
    "# set up square mesh\n",
    "\n",
    "nx, ny = (N, N)\n",
    "x = np.linspace(0, N-1, nx)*d\n",
    "y = np.linspace(0, N-1, ny)*d\n",
    "xv, yv = np.meshgrid(x, y)\n",
    "xv_array = np.asarray(xv).reshape(-1)\n",
    "yv_array = np.asarray(yv).reshape(-1)\n",
    "\n",
    "# scaling for hexagonal points (in y)\n",
    "y_scale = np.sqrt(3)/2*d\n",
    "yv_hex = yv_array*y_scale\n",
    "\n",
    "# shift for hexagonal points (in x) - for every second row, bump a bit to the right\n",
    "no_shift = np.zeros((N))\n",
    "yes_shift = np.ones((N))*d/2\n",
    "\n",
    "# vector that contains shifts for x coordinate every second row in lattice\n",
    "x_shift = np.concatenate((no_shift, yes_shift), axis=0)\n",
    "\n",
    "xv_hex = xv_array + np.tile(x_shift, N//2)\n",
    "\n",
    "coordinates_hex = np.vstack((xv_hex, yv_hex))\n",
    "\n",
    "plt.scatter(coordinates_hex[0,:],coordinates_hex[1,:], alpha = 0.5)\n",
    "\n",
    "for i in range(N**2):\n",
    "    plt.text(coordinates_hex[0,i],coordinates_hex[1,i], str(i+1))\n",
    "\n",
    "plt.show()"
   ]
  },
  {
   "cell_type": "code",
   "execution_count": 3,
   "metadata": {},
   "outputs": [],
   "source": [
    "def neighbour(a):\n",
    "    '''return neigbouring sites of a lattice position'''   \n",
    "    x_even = np.linspace(0.5, N-0.5, nx)*d\n",
    "    x_even = np.around(x_even, 2)\n",
    "    x_odd = np.around(x, 2)\n",
    "    sites = np.array([])\n",
    "    \n",
    "    def corners(a):\n",
    "        '''checks if position is located at one of the corners'''\n",
    "        c_sites = np.array([])\n",
    "        if coordinates_hex[0,a] == 0.0 and coordinates_hex[1,a] == 0.0:\n",
    "            c_sites = np.append(c_sites, [a+N-1, a+2*N-1, a+N, a+1, N**2-(N-a), N**2-1])\n",
    "        if coordinates_hex[0,a] == d*(N-1) and coordinates_hex[1,a] == 0.0:\n",
    "            c_sites = np.append(c_sites, [a-1, a+N-1, a+N, a-N+1, N**2-1,  (N**2-1)-(N-a)])\n",
    "        if coordinates_hex[0,a] == d/2 and coordinates_hex[1,a] == y_scale*d*(N-1):\n",
    "            c_sites = np.append(c_sites, [a+N-1, N-(N**2-a), N-(N**2-a)+1, a+1, a-N+1,  a-N])\n",
    "        if coordinates_hex[0,a] == d/2 + (N-1)*d and coordinates_hex[1,a] == y_scale*d*(N-1):\n",
    "            c_sites = np.append(c_sites, [a-1, N-(N**2-a), 1, a-N+1, a-2*N+1, a-N])\n",
    "        return c_sites\n",
    "    \n",
    "    def flcol(a):\n",
    "        '''checks if position is located at the vertical sides'''\n",
    "        value = round(xv_hex[a], 2)\n",
    "        s_sites = np.array([])\n",
    "        if a%N == 0:\n",
    "            if value in x_odd: \n",
    "                s_sites = np.append(s_sites, [a+N-1, a+2*N-1, a+N, a+1, a-N, a-1])\n",
    "            elif value in x_even:   \n",
    "                s_sites = np.append(s_sites, [a+N-1, a+N, a+N+1, a+1, a-N+1, a-N])\n",
    "        if (a+1)%N == 0:\n",
    "            if value in x_odd:\n",
    "                s_sites = np.append(s_sites, [a-1, a+N-1, a+N, a-N+1, a-N, a-N-1])\n",
    "            elif value in x_even:\n",
    "                s_sites = np.append(s_sites, [a-1, a+N, a+1, a-N+1, a-2*N+1, a-N])\n",
    "        return s_sites\n",
    "     \n",
    "    def flrow(a):\n",
    "        '''checks if position is located at the horizontal sides'''\n",
    "        r_sites = np.array([])\n",
    "        if a in np.arange(0,N):\n",
    "            r_sites = np.append(r_sites, [a-1, a+N-1, a+N, a+1, N**2-(N-a), N**2-(N-a)-1])\n",
    "        if a in np.arange(N**2-N, N**2):\n",
    "            r_sites = np.append(r_sites, [a-1, N-(N**2-a), N-(N**2-a)+1, a+1, a-N+1, a-N])\n",
    "        return r_sites\n",
    "    \n",
    "    def mid(a):\n",
    "        '''checks if position is on \"odd\" row or \"even\" row'''\n",
    "        value = round(xv_hex[a], 2)\n",
    "        m_sites = np.array([])\n",
    "        if value in x_odd:\n",
    "            m_sites = np.append(m_sites, [a-1, a+N-1, a+N, a+1, a-N, a-N-1])\n",
    "        if value in x_even:\n",
    "            m_sites = np.append(m_sites, [a-1, a+N, a+N+1, a+1, a-N+1, a-N])\n",
    "        return m_sites\n",
    "    \n",
    "    if len(corners(a))!= 0:\n",
    "        sites = np.append(sites, corners(a))\n",
    "        return sites\n",
    "    elif len(flcol(a))!= 0:\n",
    "        sites = np.append(sites, flcol(a))\n",
    "        return sites\n",
    "    elif len(flrow(a))!= 0:\n",
    "        sites = np.append(sites, flrow(a))\n",
    "        return sites\n",
    "    else:\n",
    "        sites = np.append(sites, mid(a))\n",
    "        return sites"
   ]
  },
  {
   "cell_type": "code",
   "execution_count": 4,
   "metadata": {},
   "outputs": [],
   "source": [
    "'''noise at lattice points'''\n",
    "E = np.random.uniform(-0.1, 0.1, (N**2))"
   ]
  },
  {
   "cell_type": "code",
   "execution_count": 5,
   "metadata": {},
   "outputs": [],
   "source": [
    "class Simulation:\n",
    "    \n",
    "    def __init__(self, E_act, time, noise, temp, no_runs, start_pos):\n",
    "        # activation energy\n",
    "        self.active = E_act\n",
    "        # total diffusion time\n",
    "        self.total = time\n",
    "        # noise in system\n",
    "        self.disorder = noise\n",
    "        # number of points generated\n",
    "        self.runs = no_runs\n",
    "        # length of interval between points\n",
    "        self.interval = time/no_runs\n",
    "        # initiation point\n",
    "        self.start = start_pos\n",
    "        \n",
    "        # angle between points and effect on external field\n",
    "        angle = 60/180*np.pi\n",
    "        self.field = np.array([1, np.cos(angle), -np.cos(angle), -1, -np.cos(angle), np.cos(angle)])\n",
    "        self.xdist = np.array([-d, -d/2, d/2, d, d/2, -d/2])\n",
    "        self.ydist = np.array([0, np.sqrt(3)/2*d, np.sqrt(3)/2*d, 0, -np.sqrt(3)/2*d, -np.sqrt(3)/2*d])\n",
    "        kB = 8.617332e-5\n",
    "        self.kT = kB * temp\n",
    "        \n",
    "        #track position\n",
    "        self.hops = []\n",
    "\n",
    "    \n",
    "    def factor(self):\n",
    "        '''returns pre-exponential factor for hopping rate '''\n",
    "        return 2 * self.kT / 4.1357e-15\n",
    "    \n",
    "    def kmc(self):\n",
    "        '''returns mean squared total displacement at set time intervals '''\n",
    "        # choosing a random lattice point in the centre of lattice\n",
    "        #a = np.random.randint(2*N,N**2-2*N)\n",
    "        a = self.start\n",
    "        # construct table\n",
    "        df = pd.DataFrame([])\n",
    "        \n",
    "        tot_xdist = 0\n",
    "        tot_ydist = 0\n",
    "        \n",
    "        time = 0 \n",
    "        time_check = self.interval\n",
    "        \n",
    "        # keep tracks of time\n",
    "        x_time = np.array([])\n",
    "        # record mean squared displacement\n",
    "        y_msd = np.array([])\n",
    "        \n",
    "        # simulation runs until sim_time is reached\n",
    "        while time <= self.total:\n",
    "            if self.disorder != 0:\n",
    "                dE = np.array([])\n",
    "                # retrieve neigbouring points from neigbour function\n",
    "                for i in neighbour(a):\n",
    "                    i = i.astype(int)\n",
    "                    # adds noise to activation energy\n",
    "                    dE = np.append(dE, E[i]*self.disorder + self.active)\n",
    "            else:\n",
    "                # condition when no noise is introduced to the system\n",
    "                dE = np.ones(5)*self.active\n",
    "                \n",
    "            # can include electric field if needed \n",
    "            E_tot = dE\n",
    "            # rate of hopping\n",
    "            v = self.factor()*np.exp(-E_tot/self.kT)\n",
    "            # generate random number\n",
    "            Randnum1 = random.uniform(0,1) \n",
    "            # set position of pointer\n",
    "            rk = Randnum1 * np.sum(v)\n",
    "            # cumulative sum of energy\n",
    "            k = np.cumsum(v)\n",
    "            \n",
    "            # going through k1, k1+k2...., ktotal\n",
    "            for i in np.nditer(k):\n",
    "            # if value smaller than pointer choose path\n",
    "                if i > rk:\n",
    "                    next_step = list(k).index(i)\n",
    "                    break\n",
    "            # generate second random number\n",
    "            Randnum2 = random.uniform(0,1)\n",
    "            # increment time for each step\n",
    "            time = time +(-1/np.sum(v)) * np.log(Randnum2)\n",
    "            # update a for new lattice site\n",
    "            a = (neighbour(a)[next_step]).astype(int)\n",
    "            # calculate total displacement in the x and y direction\n",
    "            tot_xdist += self.xdist[next_step]\n",
    "            tot_ydist += self.ydist[next_step]\n",
    "            # calculate total displacement\n",
    "            tot_dis = np.sqrt(np.square(tot_xdist)+np.square(tot_xdist))\n",
    "            \n",
    "            # for every time increment, output time and mean square displacement\n",
    "            if time > time_check:\n",
    "                x_time = np.append(x_time, time)\n",
    "                y_msd = np.append(y_msd,np.square(tot_dis))\n",
    "                time_check += self.interval\n",
    "            data = pd.DataFrame({'time,s': x_time, 'MSD,nm^2': y_msd})\n",
    "        return data\n",
    "        "
   ]
  },
  {
   "cell_type": "code",
   "execution_count": 6,
   "metadata": {},
   "outputs": [],
   "source": [
    "class Calc:\n",
    "    \n",
    "    def __init__(self, x, y):\n",
    "        '''x and y are time and MSD from simulation'''\n",
    "        self.data = x\n",
    "        self.target = y\n",
    "        # degrees of freedom\n",
    "        self.df = len(y)-2\n",
    "        self.z = np.polyfit(x, y, 1)\n",
    "        self.p = np.poly1d(self.z)\n",
    "    \n",
    "    def plot(self):\n",
    "        '''returns array to construct plot for linear fitting'''\n",
    "        return self.p(self.data)\n",
    "    \n",
    "    def diff_coeff(self):\n",
    "        slope, intercept = self.z\n",
    "        return slope/ 4\n",
    "        \n",
    "    def ssx(self):\n",
    "        '''returns sum of squared difference of x'''\n",
    "        mean_x = np.mean(self.data)\n",
    "        squared_diff = np.square(self.data-mean_x)\n",
    "        return np.sum(squared_diff)\n",
    "    \n",
    "    def sse(self):\n",
    "        '''error sum of squares'''\n",
    "        squared_diff = np.square(self.target-self.plot())\n",
    "        return np.sum(squared_diff)\n",
    "    \n",
    "    def std(self):\n",
    "        '''standard deviation of gradient'''\n",
    "        # variance of y(x)\n",
    "        v_y = self.sse()/self.df\n",
    "        # variance of gradient\n",
    "        v_g = v_y/ self.ssx()\n",
    "        return np.sqrt(v_g)"
   ]
  },
  {
   "cell_type": "code",
   "execution_count": 14,
   "metadata": {},
   "outputs": [
    {
     "name": "stdout",
     "output_type": "stream",
     "text": [
      "done\n"
     ]
    }
   ],
   "source": [
    "'''repeating for same number of runs '''\n",
    "record = pd.DataFrame([])\n",
    "for k in range(1000):\n",
    "    '''E_act = 0.6eV, time = 0.1s, noise = 1, Temp = 278K, points = 100, starting point = 32'''\n",
    "    run = Simulation(0.6, 0.1, 1, 278, 100, 31)\n",
    "    data = run.kmc()\n",
    "    record = pd.concat([record, data], axis=1, sort=False)\n",
    "MSD = record.iloc[:, 1::2]\n",
    "time = record.iloc[:, 0::2]\n",
    "MSD_mean = MSD.mean(axis=1)\n",
    "time_mean = time.mean(axis=1)\n",
    "MSD_std = MSD.std(axis=1)\n",
    "std_err = MSD_std/np.sqrt(1000)\n",
    "\n",
    "print('done')"
   ]
  },
  {
   "cell_type": "code",
   "execution_count": 17,
   "metadata": {
    "scrolled": true
   },
   "outputs": [
    {
     "data": {
      "image/png": "[encoded data removed]",
      "text/plain": [
       "<Figure size 432x288 with 1 Axes>"
      ]
     },
     "metadata": {
      "needs_background": "light"
     },
     "output_type": "display_data"
    }
   ],
   "source": [
    "plt.errorbar(time_mean, MSD_mean, yerr=std_err)\n",
    "z = np.polyfit(time_mean, MSD_mean, 1)\n",
    "p = np.poly1d(z)\n",
    "plt.plot(time_mean, p(time_mean),\"r--\")\n",
    "plt.xlabel('time,s')\n",
    "plt.ylabel('MSD, nm^2')\n",
    "plt.savefig('MSD vs time')\n",
    "plt.show()\n",
    "plt.close()"
   ]
  },
  {
   "cell_type": "code",
   "execution_count": 20,
   "metadata": {},
   "outputs": [
    {
     "name": "stdout",
     "output_type": "stream",
     "text": [
      "5.290772930873564e-14\n",
      "0.2856104108340227\n"
     ]
    }
   ],
   "source": [
    "result = Calc(time_mean, MSD_mean)\n",
    "print(result.diff_coeff()*(10**-7)**2)\n",
    "print(result.std())"
   ]
  },
  {
   "cell_type": "code",
   "execution_count": 7,
   "metadata": {},
   "outputs": [],
   "source": [
    "'''initiating from different points'''\n",
    "start_pos = np.array([31, 41, 51]).astype(int)\n",
    "diff = np.array([])\n",
    "for p in np.nditer(start_pos):\n",
    "    record = pd.DataFrame([])\n",
    "    for w in range(1000):\n",
    "        run = Simulation(0.6, 0.1, 1, 278, 100, p)\n",
    "        data = run.kmc()\n",
    "        record = pd.concat([record, data], axis=1, sort=False)\n",
    "    MSD = record.iloc[:, 1::2]\n",
    "    time = record.iloc[:, 0::2]\n",
    "    MSD_mean = MSD.mean(axis=1)\n",
    "    time_mean = time.mean(axis=1)\n",
    "    MSD_std = MSD.std(axis=1)\n",
    "    r = Calc(time_mean, MSD_mean)\n",
    "    diff = np.append(diff, r.diff_coeff()*(10**-7)**2)\n",
    "    "
   ]
  },
  {
   "cell_type": "code",
   "execution_count": 8,
   "metadata": {},
   "outputs": [
    {
     "name": "stdout",
     "output_type": "stream",
     "text": [
      "[1.83137011e-13 2.12639305e-13 1.94157065e-13]\n"
     ]
    }
   ],
   "source": [
    "print(diff)"
   ]
  },
  {
   "cell_type": "code",
   "execution_count": 9,
   "metadata": {},
   "outputs": [
    {
     "data": {
      "text/plain": [
       "1.217200865496263e-14"
      ]
     },
     "execution_count": 9,
     "metadata": {},
     "output_type": "execute_result"
    }
   ],
   "source": [
    "diff.std()"
   ]
  },
  {
   "cell_type": "code",
   "execution_count": null,
   "metadata": {},
   "outputs": [],
   "source": []
  }
 ],
 "metadata": {
  "kernelspec": {
   "display_name": "Python 3",
   "language": "python",
   "name": "python3"
  },
  "language_info": {
   "codemirror_mode": {
    "name": "ipython",
    "version": 3
   },
   "file_extension": ".py",
   "mimetype": "text/x-python",
   "name": "python",
   "nbconvert_exporter": "python",
   "pygments_lexer": "ipython3",
   "version": "3.7.0"
  }
 },
 "nbformat": 4,
 "nbformat_minor": 2
}

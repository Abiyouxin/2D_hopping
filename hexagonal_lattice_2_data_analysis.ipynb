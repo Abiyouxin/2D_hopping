{
 "cells": [
  {
   "cell_type": "code",
   "execution_count": 1,
   "metadata": {},
   "outputs": [],
   "source": [
    "import numpy as np\n",
    "import random\n",
    "import matplotlib.pyplot as plt\n",
    "import pandas as pd"
   ]
  },
  {
   "cell_type": "code",
   "execution_count": 2,
   "metadata": {},
   "outputs": [
    {
     "data": {
      "image/png": "[encoded data removed]",
      "text/plain": [
       "<Figure size 432x288 with 1 Axes>"
      ]
     },
     "metadata": {
      "needs_background": "light"
     },
     "output_type": "display_data"
    }
   ],
   "source": [
    "# N must be even and this will make a lattice with N points in x and N points in y directions\n",
    "\n",
    "N = 10\n",
    "d = 0.28\n",
    "\n",
    "# set up square mesh\n",
    "\n",
    "nx, ny = (N, N)\n",
    "x = np.linspace(0, N-1, nx)*d\n",
    "y = np.linspace(0, N-1, ny)*d\n",
    "xv, yv = np.meshgrid(x, y)\n",
    "xv_array = np.asarray(xv).reshape(-1)\n",
    "yv_array = np.asarray(yv).reshape(-1)\n",
    "\n",
    "# scaling for hexagonal points (in y)\n",
    "y_scale = np.sqrt(3)/2*d\n",
    "yv_hex = yv_array*y_scale\n",
    "\n",
    "# shift for hexagonal points (in x) - for every second row, bump a bit to the right\n",
    "no_shift = np.zeros((N))\n",
    "yes_shift = np.ones((N))*d/2\n",
    "\n",
    "# vector that contains shifts for x coordinate every second row in lattice\n",
    "x_shift = np.concatenate((no_shift, yes_shift), axis=0)\n",
    "\n",
    "xv_hex = xv_array + np.tile(x_shift, N//2)\n",
    "\n",
    "coordinates_hex = np.vstack((xv_hex, yv_hex))\n",
    "\n",
    "plt.scatter(coordinates_hex[0,:],coordinates_hex[1,:], alpha = 0.5)\n",
    "\n",
    "for i in range(N**2):\n",
    "    plt.text(coordinates_hex[0,i],coordinates_hex[1,i], str(i+1))\n",
    "\n",
    "plt.show()"
   ]
  },
  {
   "cell_type": "code",
   "execution_count": 3,
   "metadata": {},
   "outputs": [],
   "source": [
    "def neighbour(a):\n",
    "    '''return neigbouring sites of a lattice position'''   \n",
    "    x_even = np.linspace(0.5, N-0.5, nx)*d\n",
    "    x_even = np.around(x_even, 2)\n",
    "    x_odd = np.around(x, 2)\n",
    "    sites = np.array([])\n",
    "    \n",
    "    def corners(a):\n",
    "        '''checks if position is located at one of the corners'''\n",
    "        c_sites = np.array([])\n",
    "        if coordinates_hex[0,a] == 0.0 and coordinates_hex[1,a] == 0.0:\n",
    "            c_sites = np.append(c_sites, [a+N-1, a+2*N-1, a+N, a+1, N**2-(N-a), N**2-1])\n",
    "        if coordinates_hex[0,a] == d*(N-1) and coordinates_hex[1,a] == 0.0:\n",
    "            c_sites = np.append(c_sites, [a-1, a+N-1, a+N, a-N+1, N**2-1,  (N**2-1)-(N-a)])\n",
    "        if coordinates_hex[0,a] == d/2 and coordinates_hex[1,a] == y_scale*d*(N-1):\n",
    "            c_sites = np.append(c_sites, [a+N-1, N-(N**2-a), N-(N**2-a)+1, a+1, a-N+1,  a-N])\n",
    "        if coordinates_hex[0,a] == d/2 + (N-1)*d and coordinates_hex[1,a] == y_scale*d*(N-1):\n",
    "            c_sites = np.append(c_sites, [a-1, N-(N**2-a), 1, a-N+1, a-2*N+1, a-N])\n",
    "        return c_sites\n",
    "    \n",
    "    def flcol(a):\n",
    "        '''checks if position is located at the vertical sides'''\n",
    "        value = round(xv_hex[a], 2)\n",
    "        s_sites = np.array([])\n",
    "        if a%N == 0:\n",
    "            if value in x_odd: \n",
    "                s_sites = np.append(s_sites, [a+N-1, a+2*N-1, a+N, a+1, a-N, a-1])\n",
    "            elif value in x_even:   \n",
    "                s_sites = np.append(s_sites, [a+N-1, a+N, a+N+1, a+1, a-N+1, a-N])\n",
    "        if (a+1)%N == 0:\n",
    "            if value in x_odd:\n",
    "                s_sites = np.append(s_sites, [a-1, a+N-1, a+N, a-N+1, a-N, a-N-1])\n",
    "            elif value in x_even:\n",
    "                s_sites = np.append(s_sites, [a-1, a+N, a+1, a-N+1, a-2*N+1, a-N])\n",
    "        return s_sites\n",
    "     \n",
    "    def flrow(a):\n",
    "        '''checks if position is located at the horizontal sides'''\n",
    "        r_sites = np.array([])\n",
    "        if a in np.arange(0,N):\n",
    "            r_sites = np.append(r_sites, [a-1, a+N-1, a+N, a+1, N**2-(N-a), N**2-(N-a)-1])\n",
    "        if a in np.arange(N**2-N, N**2):\n",
    "            r_sites = np.append(r_sites, [a-1, N-(N**2-a), N-(N**2-a)+1, a+1, a-N+1, a-N])\n",
    "        return r_sites\n",
    "    \n",
    "    def mid(a):\n",
    "        '''checks if position is on \"odd\" row or \"even\" row'''\n",
    "        value = round(xv_hex[a], 2)\n",
    "        m_sites = np.array([])\n",
    "        if value in x_odd:\n",
    "            m_sites = np.append(m_sites, [a-1, a+N-1, a+N, a+1, a-N, a-N-1])\n",
    "        if value in x_even:\n",
    "            m_sites = np.append(m_sites, [a-1, a+N, a+N+1, a+1, a-N+1, a-N])\n",
    "        return m_sites\n",
    "    \n",
    "    if len(corners(a))!= 0:\n",
    "        sites = np.append(sites, corners(a))\n",
    "        return sites\n",
    "    elif len(flcol(a))!= 0:\n",
    "        sites = np.append(sites, flcol(a))\n",
    "        return sites\n",
    "    elif len(flrow(a))!= 0:\n",
    "        sites = np.append(sites, flrow(a))\n",
    "        return sites\n",
    "    else:\n",
    "        sites = np.append(sites, mid(a))\n",
    "        return sites"
   ]
  },
  {
   "cell_type": "code",
   "execution_count": 21,
   "metadata": {},
   "outputs": [],
   "source": [
    "class Simulation:\n",
    "    \n",
    "    def __init__(self, E_act, noise, temp, start_pos):\n",
    "        # activation energy\n",
    "        self.active = E_act\n",
    "        # noise in system\n",
    "        self.disorder = noise\n",
    "        # initiation point\n",
    "        self.start = 31\n",
    "        \n",
    "        # angle between points and effect on external field\n",
    "        angle = 60/180*np.pi\n",
    "        self.field = np.array([1, np.cos(angle), -np.cos(angle), -1, -np.cos(angle), np.cos(angle)])\n",
    "        self.xdist = np.array([-d, -d/2, d/2, d, d/2, -d/2])\n",
    "        self.ydist = np.array([0, np.sqrt(3)/2*d, np.sqrt(3)/2*d, 0, -np.sqrt(3)/2*d, -np.sqrt(3)/2*d])\n",
    "        kB = 8.617332e-5\n",
    "        self.kT = kB * temp\n",
    "        \n",
    "        #track position\n",
    "        self.hops = []\n",
    "\n",
    "    \n",
    "    def factor(self):\n",
    "        '''returns pre-exponential factor for hopping rate '''\n",
    "        return 2 * self.kT / 4.1357e-15\n",
    "    \n",
    "    def kmc(self):\n",
    "        '''returns mean squared total displacement at set time intervals '''\n",
    "        E = np.random.uniform(-0.1, 0.1, (N**2))\n",
    "        # choosing a random lattice point in the centre of lattice\n",
    "        #a = np.random.randint(2*N,N**2-2*N)\n",
    "        a = self.start\n",
    "        # construct table\n",
    "        df = pd.DataFrame([])\n",
    "        \n",
    "        indexing = np.array([])\n",
    "        time = 0 \n",
    "        \n",
    "        # keep tracks of time\n",
    "        x_time = np.array([])\n",
    "        # record mean squared displacement\n",
    "        track_pos = np.array([])\n",
    "        \n",
    "        # simulation runs until number of hops is reached\n",
    "        for i in range(100):\n",
    "            \n",
    "            if self.disorder != 0:\n",
    "                dE = np.array([])\n",
    "                # retrieve neigbouring points from neigbour function\n",
    "                for i in neighbour(a):\n",
    "                    i = i.astype(int)\n",
    "                    # adds noise to activation energy\n",
    "                    dE = np.append(dE, E[i]*self.disorder + self.active)\n",
    "            else:\n",
    "                # condition when no noise is introduced to the system\n",
    "                dE = np.ones(5)*self.active\n",
    "                \n",
    "            # can include electric field if needed \n",
    "            E_tot = dE\n",
    "            # rate of hopping\n",
    "            v = self.factor()*np.exp(-E_tot/self.kT)\n",
    "            # generate random number\n",
    "            Randnum1 = random.uniform(0,1) \n",
    "            # set position of pointer\n",
    "            rk = Randnum1 * np.sum(v)\n",
    "            # cumulative sum of energy\n",
    "            k = np.cumsum(v)\n",
    "            \n",
    "            # going through k1, k1+k2...., ktotal\n",
    "            for i in np.nditer(k):\n",
    "            # if value smaller than pointer choose path\n",
    "                if i > rk:\n",
    "                    next_step = list(k).index(i)\n",
    "                    break\n",
    "            indexing = np.append(indexing, next_step)\n",
    "            # generate second random number\n",
    "            Randnum2 = random.uniform(0,1)\n",
    "            # increment time for each step\n",
    "            time = time +(-1/np.sum(v)) * np.log(Randnum2)\n",
    "            # update a for new lattice site\n",
    "            a = (neighbour(a)[next_step]).astype(int)\n",
    "            \n",
    "            # for every time increment, output time and mean square displacement\n",
    "            x_time = np.append(x_time, time)\n",
    "            track_pos = np.append(track_pos, a)\n",
    "        return x_time, track_pos, indexing\n",
    "    \n",
    "    \n",
    "        "
   ]
  },
  {
   "cell_type": "code",
   "execution_count": 22,
   "metadata": {},
   "outputs": [
    {
     "name": "stdout",
     "output_type": "stream",
     "text": [
      "[32. 42. 43. 42. 52. 62. 71. 72. 83. 92. 91. 90. 91.  1. 10. 20. 29. 20.\n",
      " 10. 11. 21. 31. 30. 39. 30. 40. 49. 40. 50. 59. 60. 70. 71. 62. 71. 70.\n",
      " 80. 70. 61. 60. 79. 60. 69. 60. 61. 51. 50. 61. 60. 50. 59. 69. 79. 78.\n",
      " 89. 88. 87. 96.  7. 17.  8. 18.  9. 99. 90. 99. 90.  1. 10. 19. 29. 20.\n",
      " 30. 40. 49. 39. 49. 59. 58. 59. 40. 49. 39. 49. 48. 47. 37. 28. 27. 36.\n",
      " 47. 46. 36. 37. 47. 57. 56. 67. 57. 58.]\n"
     ]
    }
   ],
   "source": [
    "run = Simulation(0.6, 0, 298, 31)\n",
    "time, position, index = run.kmc()\n",
    "print(position)\n"
   ]
  },
  {
   "cell_type": "code",
   "execution_count": 8,
   "metadata": {},
   "outputs": [
    {
     "name": "stdout",
     "output_type": "stream",
     "text": [
      "[1.10207404e-04 1.98407252e-04 3.10107329e-04 5.74832204e-04\n",
      " 8.75929702e-04 9.77315762e-04 1.36267348e-03 1.68154320e-03\n",
      " 8.81998477e-05 1.99899924e-04 4.64624800e-04 7.65722298e-04\n",
      " 8.67108358e-04 1.25246607e-03 1.57133579e-03 1.11700077e-04\n",
      " 3.76424952e-04 6.77522450e-04 7.78908510e-04 1.16426623e-03\n",
      " 1.48313595e-03 2.64724875e-04 5.65822373e-04 6.67208433e-04\n",
      " 1.05256615e-03 1.37143587e-03 3.01097498e-04 4.02483558e-04\n",
      " 7.87841273e-04 1.10671099e-03 1.01386060e-04 4.86743775e-04\n",
      " 8.05613496e-04 3.85357715e-04 7.04227436e-04 3.18869721e-04]\n"
     ]
    }
   ],
   "source": [
    "sim_time = np.array([])\n",
    "m = 1\n",
    "while m < len(time)-1:\n",
    "    for k in range(m+1, len(time)):\n",
    "        time_diff = time[k] - time[m]\n",
    "        sim_time = np.append(sim_time, time_diff)\n",
    "    m += 1\n",
    "print(sim_time)"
   ]
  },
  {
   "cell_type": "code",
   "execution_count": 9,
   "metadata": {},
   "outputs": [
    {
     "name": "stdout",
     "output_type": "stream",
     "text": [
      "[0.7  0.84 1.12 0.98 1.26 1.12 1.26 1.54 1.82 1.96]\n",
      "[0.61106752 0.54317113 0.54317113 0.61106752 0.61106752 0.\n",
      " 0.61106752 0.61106752 0.61106752 0.54317113]\n"
     ]
    }
   ],
   "source": [
    "x_pos = np.array([])\n",
    "y_pos = np.array([])\n",
    "for i in range(len(time)):\n",
    "    x_pos = np.append(x_pos, coordinates_hex[0,int(position[i])])\n",
    "    y_pos = np.append(y_pos, coordinates_hex[1,int(position[i])])\n",
    "print(x_pos)\n",
    "print(y_pos)"
   ]
  },
  {
   "cell_type": "code",
   "execution_count": null,
   "metadata": {},
   "outputs": [],
   "source": [
    "x_even = np.linspace(0.5, N-0.5, nx)*d\n",
    "x_even = np.around(x_even, 2)\n",
    "x_odd = np.around(x, 2)\n"
   ]
  },
  {
   "cell_type": "code",
   "execution_count": 18,
   "metadata": {},
   "outputs": [
    {
     "name": "stdout",
     "output_type": "stream",
     "text": [
      "[0 3 4 6 7 8]\n",
      "done\n",
      "[0.7  0.84 1.12 0.98 1.26 1.12 1.26 1.54 1.82 1.96]\n"
     ]
    }
   ],
   "source": [
    "last_index = len(position)-1\n",
    "# top edge row\n",
    "j = np.where(position > N**2-N)\n",
    "j = np.array(j).tolist()[0]\n",
    "\n",
    "if last_index in j:\n",
    "    j.remove(last_index)\n",
    "j = np.array(j)\n",
    "print(j)\n",
    "for r in np.nditer(j):\n",
    "    if index[r+1] == 1:\n",
    "        x_pos[r+1] = x_pos[r] - d/2\n",
    "        y_pos[r+1] = y_pos[r] + np.sqrt(3)/2*d\n",
    "        print('done')\n",
    "    if index[r+1] == 2:\n",
    "        x_pos[r+1] = x_pos[r] + d/2\n",
    "        y_pos[r+1] = y_pos[r] + np.sqrt(3)/2*d\n",
    "\n",
    "print(x_pos)\n",
    "\n"
   ]
  },
  {
   "cell_type": "code",
   "execution_count": 15,
   "metadata": {},
   "outputs": [
    {
     "name": "stdout",
     "output_type": "stream",
     "text": [
      "[5]\n",
      "[0.7  0.84 1.12 0.98 1.26 1.12 1.26 1.54 1.82 1.96]\n"
     ]
    }
   ],
   "source": [
    "last_index = len(position)-1\n",
    "# bottom edge row\n",
    "k = np.where(position < N)\n",
    "k = np.array(k).tolist()[0]\n",
    "if last_index in k:\n",
    "    k.remove(last_index)\n",
    "k = np.array(k)\n",
    "print(k)\n",
    "\n",
    "for r in np.nditer(k):\n",
    "    if index[r+1] == 4:\n",
    "        x_pos[r+1] = x_pos[r] + d/2\n",
    "        y_pos[r+1] = y_pos[r] - np.sqrt(3)/2*d\n",
    "    if index[r+1] == 5:\n",
    "        x_pos[r+1] = x_pos[r] - d/2\n",
    "        y_pos[r+1] = y_pos[r] - np.sqrt(3)/2*d\n",
    "print(x_pos)"
   ]
  },
  {
   "cell_type": "code",
   "execution_count": 29,
   "metadata": {},
   "outputs": [
    {
     "name": "stdout",
     "output_type": "stream",
     "text": [
      "[0.15559537 0.15559537 0.15559537 0.42545261 0.57622884 0.31119075\n",
      " 0.24716246 0.46678612 0.39007527 0.28       0.         0.28\n",
      " 0.42545261 0.15559537 0.13579278 0.31119075 0.24716246 0.28\n",
      " 0.56       0.70328509 0.42545261 0.31119075 0.57622884 0.46678612\n",
      " 0.28       0.42545261 0.15559537 0.13579278 0.31119075 0.24716246\n",
      " 0.15559537 0.15559537 0.31119075 0.13579278 0.24716246 0.28\n",
      " 0.42545261 0.15559537 0.31119075 0.15559537 0.15559537 0.13579278\n",
      " 0.28       0.15559537 0.15559537]\n"
     ]
    }
   ],
   "source": [
    "dis = np.array([])\n",
    "n = 0\n",
    "while n < len(time):\n",
    "    for p in range(n+1, len(time)):\n",
    "        x_diff = coordinates_hex[0,int(position[p])] - coordinates_hex[0,int(position[n])]\n",
    "        y_diff = coordinates_hex[1,int(position[p])] - coordinates_hex[1,int(position[n])]\n",
    "        displacement = np.sqrt(x_diff**2+y_diff**2)\n",
    "        dis = np.append(dis, displacement)\n",
    "    n += 1\n",
    "print(dis)"
   ]
  },
  {
   "cell_type": "code",
   "execution_count": 6,
   "metadata": {},
   "outputs": [],
   "source": [
    "n_times = np.array(range(10, 2000, 50))\n",
    "df_mean = np.array([])\n",
    "df_err = np.array([])\n",
    "for r in np.nditer(n_times):\n",
    "    col_df = np.array([])\n",
    "    col_var = np.array([])\n",
    "    for n in range(r):\n",
    "        run = Simulation(0.6, 1, 298, 31)\n",
    "        data = run.kmc()\n",
    "        result = Calc(data['time,s'], data['MSD,nm^2'])\n",
    "        df = result.diff_coeff()\n",
    "        col_df = np.append(col_df, df)\n",
    "        variance = result.var()\n",
    "        col_var = np.append(col_var, variance)\n",
    "        rec_var = 1/col_var\n",
    "    w_mean = np.sum(np.multiply(col_df, rec_var))/np.sum(rec_var)\n",
    "    std_err = np.sqrt(1/np.sum(rec_var))\n",
    "    df_mean = np.append(df_mean, w_mean)\n",
    "    df_err = np.append(df_err, std_err)\n",
    "\n",
    "   "
   ]
  },
  {
   "cell_type": "code",
   "execution_count": null,
   "metadata": {},
   "outputs": [],
   "source": []
  }
 ],
 "metadata": {
  "kernelspec": {
   "display_name": "Python 3",
   "language": "python",
   "name": "python3"
  },
  "language_info": {
   "codemirror_mode": {
    "name": "ipython",
    "version": 3
   },
   "file_extension": ".py",
   "mimetype": "text/x-python",
   "name": "python",
   "nbconvert_exporter": "python",
   "pygments_lexer": "ipython3",
   "version": "3.7.0"
  }
 },
 "nbformat": 4,
 "nbformat_minor": 2
}

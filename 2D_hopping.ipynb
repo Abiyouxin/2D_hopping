{
 "cells": [
  {
   "cell_type": "code",
   "execution_count": 1,
   "metadata": {},
   "outputs": [],
   "source": [
    "import numpy as np\n",
    "import random\n",
    "import matplotlib.pyplot as plt"
   ]
  },
  {
   "cell_type": "code",
   "execution_count": 2,
   "metadata": {},
   "outputs": [],
   "source": [
    "def energystate(N):\n",
    "    # generates energy for each site\n",
    "    state = np.random.uniform(-1, 1, (N,N))\n",
    "    return state"
   ]
  },
  {
   "cell_type": "code",
   "execution_count": 3,
   "metadata": {},
   "outputs": [
    {
     "data": {
      "text/plain": [
       "array([[ 0.94479156,  0.08745995, -0.37674671, -0.19489638],\n",
       "       [-0.36126966, -0.05172237, -0.99255047,  0.42221828],\n",
       "       [ 0.06363406, -0.48087055,  0.89374941, -0.49942069],\n",
       "       [ 0.40075873,  0.90433931, -0.87621448, -0.19430646]])"
      ]
     },
     "execution_count": 3,
     "metadata": {},
     "output_type": "execute_result"
    }
   ],
   "source": [
    "# Temperature\n",
    "T = 300\n",
    "# Boltzmann constant\n",
    "kB = 8.617332e-5\n",
    "kT = kB * T\n",
    "\n",
    "# sites given by N*N\n",
    "N = 4\n",
    "\n",
    "config = energystate(N)\n",
    "config\n"
   ]
  },
  {
   "cell_type": "code",
   "execution_count": 4,
   "metadata": {},
   "outputs": [
    {
     "name": "stdout",
     "output_type": "stream",
     "text": [
      "[[0. 0. 0. 0.]\n",
      " [0. 0. 0. 0.]\n",
      " [0. 0. 0. 0.]\n",
      " [0. 0. 0. 1.]]\n",
      "-0.19430646315447686\n"
     ]
    }
   ],
   "source": [
    "# generate lattice sites\n",
    "sites = np.zeros((N,N))\n",
    "\n",
    "# random point for atom position\n",
    "a = np.random.randint(0,N)\n",
    "b = np.random.randint(0,N)\n",
    "\n",
    "# position of atom set to 1\n",
    "sites[a, b] = 1\n",
    "print(sites)\n",
    "\n",
    "# energy at atom position\n",
    "s = config[a, b]\n",
    "print(s)\n",
    "\n",
    "\n"
   ]
  },
  {
   "cell_type": "code",
   "execution_count": 5,
   "metadata": {},
   "outputs": [
    {
     "name": "stdout",
     "output_type": "stream",
     "text": [
      "[array(1.02308118), array(1.02308118), array(133566.49270836)]\n",
      "-0.8762144839959731\n",
      "[[0. 0. 0. 0.]\n",
      " [0. 0. 0. 0.]\n",
      " [0. 0. 0. 0.]\n",
      " [0. 0. 1. 0.]]\n",
      "[]\n",
      "[-0.37674671]\n",
      "[[0. 0. 1. 0.]\n",
      " [0. 0. 0. 0.]\n",
      " [0. 0. 0. 0.]\n",
      " [0. 0. 0. 0.]]\n",
      "[]\n",
      "[-0.99255047]\n",
      "[[0. 0. 0. 0.]\n",
      " [0. 0. 1. 0.]\n",
      " [0. 0. 0. 0.]\n",
      " [0. 0. 0. 0.]]\n"
     ]
    }
   ],
   "source": [
    "# set number of hops\n",
    "n_hops = 3\n",
    "\n",
    "for n in range(n_hops):\n",
    "    # set lattice sites to original configuration\n",
    "    sites[a,b] = 0\n",
    "    \n",
    "    # four adjacent sites to atom position\n",
    "    p1 = config[(a+1)%N,b] \n",
    "    p2 = config[a,(b+1)%N]\n",
    "    p3 = config[(a-1)%N,b]\n",
    "    p4 = config[a,(b-1)%N]\n",
    "    \n",
    "    # energy difference between adjacent sites and position where atom is placed\n",
    "    dE = np.array([p1-s, p2-s, p3-s, p4-s])\n",
    "    # rate of hopping, v = 1*exp(-dE/kT)\n",
    "    v =  np.exp(-dE/kT)\n",
    "    # generate random number\n",
    "    Randnum = random.uniform(0,1)\n",
    "    # set position of pointer\n",
    "    rk = Randnum * np.sum(v)\n",
    "    # cumulative sum of energy for four different points, from p1 to p4\n",
    "    k = np.cumsum(v)\n",
    "\n",
    "    # going through k1, k1+k2...., ktotal\n",
    "    check = []\n",
    "    for i in np.nditer(k):\n",
    "    # if value smaller than pointer, append to check\n",
    "        if i < rk:\n",
    "            check.append(i)\n",
    "    print(check)\n",
    "\n",
    "    if len(check) == 0:\n",
    "        s = p1\n",
    "    elif len(check) == 1:\n",
    "        s = p2\n",
    "    elif len(check) == 2:\n",
    "        s = p3\n",
    "    else:\n",
    "        s = p4\n",
    "    print(s)\n",
    "    a,b = np.where(config==s)\n",
    "    sites[a, b] = 1\n",
    "    print(sites)\n",
    "    \n",
    "\n",
    "\n"
   ]
  },
  {
   "cell_type": "code",
   "execution_count": null,
   "metadata": {},
   "outputs": [],
   "source": []
  }
 ],
 "metadata": {
  "kernelspec": {
   "display_name": "Python 3",
   "language": "python",
   "name": "python3"
  },
  "language_info": {
   "codemirror_mode": {
    "name": "ipython",
    "version": 3
   },
   "file_extension": ".py",
   "mimetype": "text/x-python",
   "name": "python",
   "nbconvert_exporter": "python",
   "pygments_lexer": "ipython3",
   "version": "3.7.0"
  }
 },
 "nbformat": 4,
 "nbformat_minor": 2
}
